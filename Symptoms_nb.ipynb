{
 "cells": [
  {
   "cell_type": "code",
   "execution_count": 4,
   "id": "d8ded45a-d4dd-4c55-8856-0830a0fce0ee",
   "metadata": {},
   "outputs": [],
   "source": [
    "import pandas as pd\n",
    "import numpy as np\n",
    "import re\n",
    "import matplotlib.pyplot as plt\n",
    "import neattext as ntx\n",
    "import os\n",
    "import emoji\n",
    "import contractions"
   ]
  },
  {
   "cell_type": "code",
   "execution_count": 5,
   "id": "cbe7351e-3094-479a-ae26-5356915874da",
   "metadata": {},
   "outputs": [
    {
     "data": {
      "text/html": [
       "<div>\n",
       "<style scoped>\n",
       "    .dataframe tbody tr th:only-of-type {\n",
       "        vertical-align: middle;\n",
       "    }\n",
       "\n",
       "    .dataframe tbody tr th {\n",
       "        vertical-align: top;\n",
       "    }\n",
       "\n",
       "    .dataframe thead th {\n",
       "        text-align: right;\n",
       "    }\n",
       "</style>\n",
       "<table border=\"1\" class=\"dataframe\">\n",
       "  <thead>\n",
       "    <tr style=\"text-align: right;\">\n",
       "      <th></th>\n",
       "      <th>id</th>\n",
       "      <th>tweet</th>\n",
       "      <th>labels</th>\n",
       "    </tr>\n",
       "  </thead>\n",
       "  <tbody>\n",
       "    <tr>\n",
       "      <th>0</th>\n",
       "      <td>1322367936405921794</td>\n",
       "      <td>uh oh the coughs have started covid is taking ...</td>\n",
       "      <td>non-reporting</td>\n",
       "    </tr>\n",
       "    <tr>\n",
       "      <th>1</th>\n",
       "      <td>1262153405553946624</td>\n",
       "      <td>Loss of smell, confusion, strokes: Does Covid-...</td>\n",
       "      <td>non-reporting</td>\n",
       "    </tr>\n",
       "    <tr>\n",
       "      <th>2</th>\n",
       "      <td>1324014644931878912</td>\n",
       "      <td>\"AI is being used to distinguish between asymp...</td>\n",
       "      <td>non-reporting</td>\n",
       "    </tr>\n",
       "    <tr>\n",
       "      <th>3</th>\n",
       "      <td>1313660639097823232</td>\n",
       "      <td>i was v ill for the last couple of days (high ...</td>\n",
       "      <td>non-reporting</td>\n",
       "    </tr>\n",
       "    <tr>\n",
       "      <th>4</th>\n",
       "      <td>1239223445306695680</td>\n",
       "      <td>Played warzone yesterday with a dude who caugh...</td>\n",
       "      <td>third-party</td>\n",
       "    </tr>\n",
       "    <tr>\n",
       "      <th>5</th>\n",
       "      <td>1272157075045601280</td>\n",
       "      <td>can’t cough or sneeze round Khaza he gone swea...</td>\n",
       "      <td>non-reporting</td>\n",
       "    </tr>\n",
       "    <tr>\n",
       "      <th>6</th>\n",
       "      <td>1249033188707532801</td>\n",
       "      <td>Anyone else get a random headache and think th...</td>\n",
       "      <td>non-reporting</td>\n",
       "    </tr>\n",
       "    <tr>\n",
       "      <th>7</th>\n",
       "      <td>1320042195756396550</td>\n",
       "      <td>@TheRickWilson @HuffPostPol Why are Lindsey's ...</td>\n",
       "      <td>non-reporting</td>\n",
       "    </tr>\n",
       "    <tr>\n",
       "      <th>8</th>\n",
       "      <td>1240237555091755018</td>\n",
       "      <td>@snootgirl So, the fever is automatic corona, ...</td>\n",
       "      <td>non-reporting</td>\n",
       "    </tr>\n",
       "    <tr>\n",
       "      <th>9</th>\n",
       "      <td>1275473451982168071</td>\n",
       "      <td>@davydine_david Yes mate still very sick thoug...</td>\n",
       "      <td>primary</td>\n",
       "    </tr>\n",
       "  </tbody>\n",
       "</table>\n",
       "</div>"
      ],
      "text/plain": [
       "                    id                                              tweet  \\\n",
       "0  1322367936405921794  uh oh the coughs have started covid is taking ...   \n",
       "1  1262153405553946624  Loss of smell, confusion, strokes: Does Covid-...   \n",
       "2  1324014644931878912  \"AI is being used to distinguish between asymp...   \n",
       "3  1313660639097823232  i was v ill for the last couple of days (high ...   \n",
       "4  1239223445306695680  Played warzone yesterday with a dude who caugh...   \n",
       "5  1272157075045601280  can’t cough or sneeze round Khaza he gone swea...   \n",
       "6  1249033188707532801  Anyone else get a random headache and think th...   \n",
       "7  1320042195756396550  @TheRickWilson @HuffPostPol Why are Lindsey's ...   \n",
       "8  1240237555091755018  @snootgirl So, the fever is automatic corona, ...   \n",
       "9  1275473451982168071  @davydine_david Yes mate still very sick thoug...   \n",
       "\n",
       "          labels  \n",
       "0  non-reporting  \n",
       "1  non-reporting  \n",
       "2  non-reporting  \n",
       "3  non-reporting  \n",
       "4    third-party  \n",
       "5  non-reporting  \n",
       "6  non-reporting  \n",
       "7  non-reporting  \n",
       "8  non-reporting  \n",
       "9        primary  "
      ]
     },
     "execution_count": 5,
     "metadata": {},
     "output_type": "execute_result"
    }
   ],
   "source": [
    "df = pd.read_csv('IRMiDis-2022\\\\2022\\\\symptoms_train.csv',encoding = \"utf-8\")\n",
    "df.head(10)"
   ]
  },
  {
   "cell_type": "code",
   "execution_count": 3,
   "id": "66431c54-a9ba-4d3b-8f17-a6bdc0a6e2c0",
   "metadata": {},
   "outputs": [
    {
     "data": {
      "text/plain": [
       "(1574, 3)"
      ]
     },
     "execution_count": 3,
     "metadata": {},
     "output_type": "execute_result"
    }
   ],
   "source": [
    "df.shape"
   ]
  },
  {
   "cell_type": "code",
   "execution_count": 6,
   "id": "3b44da3f-0103-48bc-8371-c7fc359f1ce5",
   "metadata": {},
   "outputs": [],
   "source": [
    "classes = df['labels'].unique()\n",
    "val = df.groupby(['labels']).count()"
   ]
  },
  {
   "cell_type": "code",
   "execution_count": 7,
   "id": "919c5cd1-a3d5-4e17-9fd6-502e59871c82",
   "metadata": {},
   "outputs": [
    {
     "data": {
      "text/html": [
       "<div>\n",
       "<style scoped>\n",
       "    .dataframe tbody tr th:only-of-type {\n",
       "        vertical-align: middle;\n",
       "    }\n",
       "\n",
       "    .dataframe tbody tr th {\n",
       "        vertical-align: top;\n",
       "    }\n",
       "\n",
       "    .dataframe thead th {\n",
       "        text-align: right;\n",
       "    }\n",
       "</style>\n",
       "<table border=\"1\" class=\"dataframe\">\n",
       "  <thead>\n",
       "    <tr style=\"text-align: right;\">\n",
       "      <th></th>\n",
       "      <th>id</th>\n",
       "      <th>tweet</th>\n",
       "    </tr>\n",
       "    <tr>\n",
       "      <th>labels</th>\n",
       "      <th></th>\n",
       "      <th></th>\n",
       "    </tr>\n",
       "  </thead>\n",
       "  <tbody>\n",
       "    <tr>\n",
       "      <th>non-reporting</th>\n",
       "      <td>814</td>\n",
       "      <td>814</td>\n",
       "    </tr>\n",
       "    <tr>\n",
       "      <th>primary</th>\n",
       "      <td>437</td>\n",
       "      <td>437</td>\n",
       "    </tr>\n",
       "    <tr>\n",
       "      <th>secondary</th>\n",
       "      <td>127</td>\n",
       "      <td>127</td>\n",
       "    </tr>\n",
       "    <tr>\n",
       "      <th>third-party</th>\n",
       "      <td>196</td>\n",
       "      <td>196</td>\n",
       "    </tr>\n",
       "  </tbody>\n",
       "</table>\n",
       "</div>"
      ],
      "text/plain": [
       "                id  tweet\n",
       "labels                   \n",
       "non-reporting  814    814\n",
       "primary        437    437\n",
       "secondary      127    127\n",
       "third-party    196    196"
      ]
     },
     "execution_count": 7,
     "metadata": {},
     "output_type": "execute_result"
    }
   ],
   "source": [
    "val['tweet']"
   ]
  },
  {
   "cell_type": "code",
   "execution_count": 7,
   "id": "b2bad981-8d43-490d-947c-943854a63dfb",
   "metadata": {},
   "outputs": [
    {
     "data": {
      "text/plain": [
       "array(['non-reporting', 'third-party', 'primary', 'secondary'],\n",
       "      dtype=object)"
      ]
     },
     "execution_count": 7,
     "metadata": {},
     "output_type": "execute_result"
    }
   ],
   "source": [
    "classes"
   ]
  },
  {
   "cell_type": "code",
   "execution_count": 9,
   "id": "14275d7c-0adb-4272-a22e-35df75aadfe4",
   "metadata": {},
   "outputs": [
    {
     "data": {
      "image/png": "[encoded data removed]",
      "text/plain": [
       "<Figure size 432x288 with 1 Axes>"
      ]
     },
     "metadata": {
      "needs_background": "light"
     },
     "output_type": "display_data"
    }
   ],
   "source": [
    "plt.bar(['non-reporting', 'primary','secondary','third-party'], val['tweet'])\n",
    "plt.show()"
   ]
  },
  {
   "cell_type": "code",
   "execution_count": 10,
   "id": "ebcbf617-9cf1-44b4-ba66-e760a397e46b",
   "metadata": {},
   "outputs": [],
   "source": [
    "from sklearn.feature_extraction.text import CountVectorizer\n",
    "from sklearn.feature_extraction.text import TfidfVectorizer\n",
    "from xgboost import XGBClassifier"
   ]
  },
  {
   "cell_type": "code",
   "execution_count": 11,
   "id": "9737e46d-47e6-453d-87c3-af543f77f327",
   "metadata": {},
   "outputs": [
    {
     "name": "stdout",
     "output_type": "stream",
     "text": [
      "Requirement already satisfied: imbalanced-learn in c:\\programdata\\anaconda3\\lib\\site-packages (0.9.1)"
     ]
    },
    {
     "name": "stderr",
     "output_type": "stream",
     "text": [
      "WARNING: Ignoring invalid distribution -cikit-learn (c:\\programdata\\anaconda3\\lib\\site-packages)"
     ]
    },
    {
     "name": "stdout",
     "output_type": "stream",
     "text": [
      "\n",
      "Requirement already satisfied: joblib>=1.0.0 in c:\\programdata\\anaconda3\\lib\\site-packages (from imbalanced-learn) (1.1.0)\n",
      "Requirement already satisfied: threadpoolctl>=2.0.0 in c:\\programdata\\anaconda3\\lib\\site-packages (from imbalanced-learn) (3.1.0)\n",
      "Requirement already satisfied: scikit-learn>=1.1.0 in c:\\users\\kaustav das\\appdata\\roaming\\python\\python38\\site-packages (from imbalanced-learn) (1.1.1)\n",
      "Requirement already satisfied: scipy>=1.3.2 in c:\\programdata\\anaconda3\\lib\\site-packages (from imbalanced-learn) (1.8.1)\n",
      "Requirement already satisfied: numpy>=1.17.3 in c:\\programdata\\anaconda3\\lib\\site-packages (from imbalanced-learn) (1.22.3)\n"
     ]
    },
    {
     "name": "stderr",
     "output_type": "stream",
     "text": [
      "\n",
      "WARNING: Ignoring invalid distribution -cikit-learn (c:\\programdata\\anaconda3\\lib\\site-packages)\n",
      "WARNING: Ignoring invalid distribution -cikit-learn (c:\\programdata\\anaconda3\\lib\\site-packages)\n",
      "WARNING: Ignoring invalid distribution -cikit-learn (c:\\programdata\\anaconda3\\lib\\site-packages)\n",
      "WARNING: Ignoring invalid distribution -cikit-learn (c:\\programdata\\anaconda3\\lib\\site-packages)\n",
      "WARNING: Ignoring invalid distribution -cikit-learn (c:\\programdata\\anaconda3\\lib\\site-packages)\n"
     ]
    }
   ],
   "source": [
    "!pip install -U imbalanced-learn"
   ]
  },
  {
   "cell_type": "code",
   "execution_count": 12,
   "id": "55a6c50c-ee5d-43e0-bee7-f971d6bdad26",
   "metadata": {},
   "outputs": [],
   "source": [
    "import nltk\n",
    "from nltk.stem import WordNetLemmatizer\n",
    "from nltk.stem import SnowballStemmer\n",
    "from nltk.corpus import stopwords\n",
    "stemmer = SnowballStemmer(\"english\")\n",
    "lemmatizer = WordNetLemmatizer()\n",
    " \n",
    "def stopWords(clean_tweet):\n",
    "    tweet = \" \".join(word for word in clean_tweet.split() if word not in stopwords.words('english') )\n",
    "    return tweet\n",
    "def clean_tweet_func(X_res_us):\n",
    "    clean_tweet = [ntx.remove_urls(str(i)) for i in X_res_us] \n",
    "    clean_tweet = [ntx.remove_userhandles(str(i)) for i in clean_tweet] \n",
    "    clean_tweet = [contractions.fix(str(i)) for i in clean_tweet] \n",
    "    clean_tweet = [ntx.remove_special_characters(str(i)) for i in clean_tweet] \n",
    "    clean_tweet = [emoji.demojize(str(i)) for i in clean_tweet]\n",
    "    clean_tweet = [stopWords(str(i)) for i in clean_tweet]\n",
    "    clean_tweet = [i.lower() for i in clean_tweet]\n",
    "    return clean_tweet\n",
    "df['clean_tweet'] = clean_tweet_func(df['tweet'])"
   ]
  },
  {
   "cell_type": "code",
   "execution_count": 13,
   "id": "9971f5a3-f37b-4618-b230-3a80d2440b17",
   "metadata": {},
   "outputs": [
    {
     "data": {
      "text/html": [
       "<div>\n",
       "<style scoped>\n",
       "    .dataframe tbody tr th:only-of-type {\n",
       "        vertical-align: middle;\n",
       "    }\n",
       "\n",
       "    .dataframe tbody tr th {\n",
       "        vertical-align: top;\n",
       "    }\n",
       "\n",
       "    .dataframe thead th {\n",
       "        text-align: right;\n",
       "    }\n",
       "</style>\n",
       "<table border=\"1\" class=\"dataframe\">\n",
       "  <thead>\n",
       "    <tr style=\"text-align: right;\">\n",
       "      <th></th>\n",
       "      <th>tweet</th>\n",
       "      <th>clean_tweet</th>\n",
       "    </tr>\n",
       "  </thead>\n",
       "  <tbody>\n",
       "    <tr>\n",
       "      <th>0</th>\n",
       "      <td>uh oh the coughs have started covid is taking ...</td>\n",
       "      <td>uh oh coughs started covid taking</td>\n",
       "    </tr>\n",
       "    <tr>\n",
       "      <th>1</th>\n",
       "      <td>Loss of smell, confusion, strokes: Does Covid-...</td>\n",
       "      <td>loss smell confusion strokes does covid19 targ...</td>\n",
       "    </tr>\n",
       "    <tr>\n",
       "      <th>2</th>\n",
       "      <td>\"AI is being used to distinguish between asymp...</td>\n",
       "      <td>ai used distinguish asymptomatic covid19 cases...</td>\n",
       "    </tr>\n",
       "    <tr>\n",
       "      <th>3</th>\n",
       "      <td>i was v ill for the last couple of days (high ...</td>\n",
       "      <td>v ill last couple days high fever corona thoug...</td>\n",
       "    </tr>\n",
       "    <tr>\n",
       "      <th>4</th>\n",
       "      <td>Played warzone yesterday with a dude who caugh...</td>\n",
       "      <td>played warzone yesterday dude caught corona sw...</td>\n",
       "    </tr>\n",
       "    <tr>\n",
       "      <th>5</th>\n",
       "      <td>can’t cough or sneeze round Khaza he gone swea...</td>\n",
       "      <td>cannot cough sneeze round khaza gone swear got...</td>\n",
       "    </tr>\n",
       "    <tr>\n",
       "      <th>6</th>\n",
       "      <td>Anyone else get a random headache and think th...</td>\n",
       "      <td>anyone else get random headache think corona</td>\n",
       "    </tr>\n",
       "    <tr>\n",
       "      <th>7</th>\n",
       "      <td>@TheRickWilson @HuffPostPol Why are Lindsey's ...</td>\n",
       "      <td>why lindseys eyes red conjunctivitis is conjun...</td>\n",
       "    </tr>\n",
       "    <tr>\n",
       "      <th>8</th>\n",
       "      <td>@snootgirl So, the fever is automatic corona, ...</td>\n",
       "      <td>so fever automatic corona testing i seen lots ...</td>\n",
       "    </tr>\n",
       "    <tr>\n",
       "      <th>9</th>\n",
       "      <td>@davydine_david Yes mate still very sick thoug...</td>\n",
       "      <td>yes mate still sick though got bed day high te...</td>\n",
       "    </tr>\n",
       "  </tbody>\n",
       "</table>\n",
       "</div>"
      ],
      "text/plain": [
       "                                               tweet  \\\n",
       "0  uh oh the coughs have started covid is taking ...   \n",
       "1  Loss of smell, confusion, strokes: Does Covid-...   \n",
       "2  \"AI is being used to distinguish between asymp...   \n",
       "3  i was v ill for the last couple of days (high ...   \n",
       "4  Played warzone yesterday with a dude who caugh...   \n",
       "5  can’t cough or sneeze round Khaza he gone swea...   \n",
       "6  Anyone else get a random headache and think th...   \n",
       "7  @TheRickWilson @HuffPostPol Why are Lindsey's ...   \n",
       "8  @snootgirl So, the fever is automatic corona, ...   \n",
       "9  @davydine_david Yes mate still very sick thoug...   \n",
       "\n",
       "                                         clean_tweet  \n",
       "0                  uh oh coughs started covid taking  \n",
       "1  loss smell confusion strokes does covid19 targ...  \n",
       "2  ai used distinguish asymptomatic covid19 cases...  \n",
       "3  v ill last couple days high fever corona thoug...  \n",
       "4  played warzone yesterday dude caught corona sw...  \n",
       "5  cannot cough sneeze round khaza gone swear got...  \n",
       "6       anyone else get random headache think corona  \n",
       "7  why lindseys eyes red conjunctivitis is conjun...  \n",
       "8  so fever automatic corona testing i seen lots ...  \n",
       "9  yes mate still sick though got bed day high te...  "
      ]
     },
     "execution_count": 13,
     "metadata": {},
     "output_type": "execute_result"
    }
   ],
   "source": [
    "df[['tweet','clean_tweet']].head(10)"
   ]
  },
  {
   "cell_type": "code",
   "execution_count": 7,
   "id": "cdae9fff-3da6-4ac6-9428-48f54ac4c2ab",
   "metadata": {},
   "outputs": [
    {
     "data": {
      "text/plain": [
       "'I used to go \"no no, the cough is not because of my smoking, it\\'s just a mild cold\". Now I go \"don\\'t worry about my cough! It\\'s because I\\'m a smoker!\" #Covid_19 #smoking'"
      ]
     },
     "execution_count": 7,
     "metadata": {},
     "output_type": "execute_result"
    }
   ],
   "source": [
    "df.tweet.iloc[100]"
   ]
  },
  {
   "cell_type": "code",
   "execution_count": 8,
   "id": "b978b982-e537-4abc-9def-40c36badbc21",
   "metadata": {},
   "outputs": [
    {
     "data": {
      "text/plain": [
       "'i used go cough smoking mild cold now i go worry cough it i smoker covid19 smoking'"
      ]
     },
     "execution_count": 8,
     "metadata": {},
     "output_type": "execute_result"
    }
   ],
   "source": [
    "df.clean_tweet.iloc[100]"
   ]
  },
  {
   "cell_type": "code",
   "execution_count": 14,
   "id": "b4d74ca4-9fd7-4981-9a11-295901828ab2",
   "metadata": {},
   "outputs": [],
   "source": [
    "from sklearn import preprocessing\n",
    "X = df['clean_tweet']\n",
    "y = df['labels']\n",
    "encoder = preprocessing.LabelEncoder()\n",
    "encoded_y= encoder.fit_transform(y)\n",
    "X = X.to_numpy()\n",
    "X = X.reshape(-1, 1)"
   ]
  },
  {
   "cell_type": "code",
   "execution_count": 15,
   "id": "119be62a-5a08-4403-a4ec-b58a1e2575c6",
   "metadata": {},
   "outputs": [
    {
     "data": {
      "text/html": [
       "<div>\n",
       "<style scoped>\n",
       "    .dataframe tbody tr th:only-of-type {\n",
       "        vertical-align: middle;\n",
       "    }\n",
       "\n",
       "    .dataframe tbody tr th {\n",
       "        vertical-align: top;\n",
       "    }\n",
       "\n",
       "    .dataframe thead th {\n",
       "        text-align: right;\n",
       "    }\n",
       "</style>\n",
       "<table border=\"1\" class=\"dataframe\">\n",
       "  <thead>\n",
       "    <tr style=\"text-align: right;\">\n",
       "      <th></th>\n",
       "      <th>labels</th>\n",
       "      <th>encoded_label</th>\n",
       "    </tr>\n",
       "  </thead>\n",
       "  <tbody>\n",
       "    <tr>\n",
       "      <th>0</th>\n",
       "      <td>non-reporting</td>\n",
       "      <td>0</td>\n",
       "    </tr>\n",
       "    <tr>\n",
       "      <th>1</th>\n",
       "      <td>non-reporting</td>\n",
       "      <td>0</td>\n",
       "    </tr>\n",
       "    <tr>\n",
       "      <th>2</th>\n",
       "      <td>non-reporting</td>\n",
       "      <td>0</td>\n",
       "    </tr>\n",
       "    <tr>\n",
       "      <th>3</th>\n",
       "      <td>non-reporting</td>\n",
       "      <td>0</td>\n",
       "    </tr>\n",
       "    <tr>\n",
       "      <th>4</th>\n",
       "      <td>third-party</td>\n",
       "      <td>3</td>\n",
       "    </tr>\n",
       "  </tbody>\n",
       "</table>\n",
       "</div>"
      ],
      "text/plain": [
       "          labels  encoded_label\n",
       "0  non-reporting              0\n",
       "1  non-reporting              0\n",
       "2  non-reporting              0\n",
       "3  non-reporting              0\n",
       "4    third-party              3"
      ]
     },
     "execution_count": 15,
     "metadata": {},
     "output_type": "execute_result"
    }
   ],
   "source": [
    "df['encoded_label'] = encoded_y\n",
    "df[['labels','encoded_label']].head(5)\n",
    "#0->non-reporting\n",
    "#1->primary\n",
    "#2->secondary\n",
    "#3->third-party"
   ]
  },
  {
   "cell_type": "code",
   "execution_count": 16,
   "id": "c02b8e93-2ca3-4c93-a724-1463e66510f0",
   "metadata": {},
   "outputs": [
    {
     "data": {
      "image/png": "[encoded data removed]",
      "text/plain": [
       "<Figure size 432x288 with 1 Axes>"
      ]
     },
     "metadata": {},
     "output_type": "display_data"
    }
   ],
   "source": [
    "from imblearn.under_sampling import RandomUnderSampler\n",
    "dict1 = {0:127, 2:127, 1:127, 3:127}\n",
    "rus = RandomUnderSampler(sampling_strategy=dict1) # Numerical value\n",
    "# rus = RandomUnderSampler(sampling_strategy=\"not minority\") # String\n",
    "X_res_us, y_res_us = rus.fit_resample(X,encoded_y)\n",
    "y_res_us_series = pd.Series(y_res_us)\n",
    "ax = y_res_us_series.value_counts().plot.pie(autopct='%.2f')\n",
    "_ = ax.set_title(\"Under-sampling\")"
   ]
  },
  {
   "cell_type": "code",
   "execution_count": null,
   "id": "10596e4c-acd0-4ae0-8cb3-35be06e68450",
   "metadata": {},
   "outputs": [],
   "source": [
    "X_res_us"
   ]
  },
  {
   "cell_type": "code",
   "execution_count": 19,
   "id": "4a4967cb-5afa-4e02-ba1d-7c35ffc3f1dc",
   "metadata": {},
   "outputs": [],
   "source": [
    "list1 = []\n",
    "for i in X_res_us:\n",
    "    list1.append((' '.join([str(elem) for elem in i])))\n",
    "dict2 = {'X_res_us':list1,'Labels':list(y_res_us)}\n",
    "df2 = pd.DataFrame(dict2)"
   ]
  },
  {
   "cell_type": "code",
   "execution_count": 20,
   "id": "95b9911d-1f61-42e6-8554-436ddc8e6f8a",
   "metadata": {},
   "outputs": [
    {
     "data": {
      "text/html": [
       "<div>\n",
       "<style scoped>\n",
       "    .dataframe tbody tr th:only-of-type {\n",
       "        vertical-align: middle;\n",
       "    }\n",
       "\n",
       "    .dataframe tbody tr th {\n",
       "        vertical-align: top;\n",
       "    }\n",
       "\n",
       "    .dataframe thead th {\n",
       "        text-align: right;\n",
       "    }\n",
       "</style>\n",
       "<table border=\"1\" class=\"dataframe\">\n",
       "  <thead>\n",
       "    <tr style=\"text-align: right;\">\n",
       "      <th></th>\n",
       "      <th>X_res_us</th>\n",
       "      <th>Labels</th>\n",
       "    </tr>\n",
       "  </thead>\n",
       "  <tbody>\n",
       "    <tr>\n",
       "      <th>0</th>\n",
       "      <td>unexpected covid19 infection symptoms include ...</td>\n",
       "      <td>0</td>\n",
       "    </tr>\n",
       "    <tr>\n",
       "      <th>1</th>\n",
       "      <td>fever checks flawed way flag covid19 cases exp...</td>\n",
       "      <td>0</td>\n",
       "    </tr>\n",
       "    <tr>\n",
       "      <th>2</th>\n",
       "      <td>went ahead took covid test precaution feeling ...</td>\n",
       "      <td>0</td>\n",
       "    </tr>\n",
       "    <tr>\n",
       "      <th>3</th>\n",
       "      <td>mr puneet govt could screen fever lot corona a...</td>\n",
       "      <td>0</td>\n",
       "    </tr>\n",
       "    <tr>\n",
       "      <th>4</th>\n",
       "      <td>what happened symptoms no wonder people sure a...</td>\n",
       "      <td>0</td>\n",
       "    </tr>\n",
       "    <tr>\n",
       "      <th>5</th>\n",
       "      <td>congratulations you made diarrhea trend there ...</td>\n",
       "      <td>0</td>\n",
       "    </tr>\n",
       "    <tr>\n",
       "      <th>6</th>\n",
       "      <td>brother coughing nurse medication want tea tis...</td>\n",
       "      <td>0</td>\n",
       "    </tr>\n",
       "    <tr>\n",
       "      <th>7</th>\n",
       "      <td>a similar research done chinese doctors loss t...</td>\n",
       "      <td>0</td>\n",
       "    </tr>\n",
       "    <tr>\n",
       "      <th>8</th>\n",
       "      <td>a thing i hate covid19 situation whenever coug...</td>\n",
       "      <td>0</td>\n",
       "    </tr>\n",
       "    <tr>\n",
       "      <th>9</th>\n",
       "      <td>ha pandemic land wall behold aussies panic buy...</td>\n",
       "      <td>0</td>\n",
       "    </tr>\n",
       "  </tbody>\n",
       "</table>\n",
       "</div>"
      ],
      "text/plain": [
       "                                            X_res_us  Labels\n",
       "0  unexpected covid19 infection symptoms include ...       0\n",
       "1  fever checks flawed way flag covid19 cases exp...       0\n",
       "2  went ahead took covid test precaution feeling ...       0\n",
       "3  mr puneet govt could screen fever lot corona a...       0\n",
       "4  what happened symptoms no wonder people sure a...       0\n",
       "5  congratulations you made diarrhea trend there ...       0\n",
       "6  brother coughing nurse medication want tea tis...       0\n",
       "7  a similar research done chinese doctors loss t...       0\n",
       "8  a thing i hate covid19 situation whenever coug...       0\n",
       "9  ha pandemic land wall behold aussies panic buy...       0"
      ]
     },
     "execution_count": 20,
     "metadata": {},
     "output_type": "execute_result"
    }
   ],
   "source": [
    "df2.head(10)"
   ]
  },
  {
   "cell_type": "code",
   "execution_count": 21,
   "id": "9459e109-9844-4d60-b3ef-1e256f7bebb8",
   "metadata": {},
   "outputs": [
    {
     "data": {
      "text/html": [
       "<div>\n",
       "<style scoped>\n",
       "    .dataframe tbody tr th:only-of-type {\n",
       "        vertical-align: middle;\n",
       "    }\n",
       "\n",
       "    .dataframe tbody tr th {\n",
       "        vertical-align: top;\n",
       "    }\n",
       "\n",
       "    .dataframe thead th {\n",
       "        text-align: right;\n",
       "    }\n",
       "</style>\n",
       "<table border=\"1\" class=\"dataframe\">\n",
       "  <thead>\n",
       "    <tr style=\"text-align: right;\">\n",
       "      <th></th>\n",
       "      <th>X_res_us</th>\n",
       "      <th>Labels</th>\n",
       "    </tr>\n",
       "  </thead>\n",
       "  <tbody>\n",
       "    <tr>\n",
       "      <th>175</th>\n",
       "      <td>me eating dairy like idiot starts coughing me ...</td>\n",
       "      <td>1</td>\n",
       "    </tr>\n",
       "    <tr>\n",
       "      <th>105</th>\n",
       "      <td>good point death rate cattle fever probably mu...</td>\n",
       "      <td>0</td>\n",
       "    </tr>\n",
       "    <tr>\n",
       "      <th>500</th>\n",
       "      <td>wh doctor extremely happy progress president t...</td>\n",
       "      <td>3</td>\n",
       "    </tr>\n",
       "    <tr>\n",
       "      <th>73</th>\n",
       "      <td>exactly angelina it like say right coughsneeze...</td>\n",
       "      <td>0</td>\n",
       "    </tr>\n",
       "    <tr>\n",
       "      <th>32</th>\n",
       "      <td>why could covid19 come better calling card lik...</td>\n",
       "      <td>0</td>\n",
       "    </tr>\n",
       "    <tr>\n",
       "      <th>430</th>\n",
       "      <td>someone needs take one team cough come already...</td>\n",
       "      <td>3</td>\n",
       "    </tr>\n",
       "    <tr>\n",
       "      <th>429</th>\n",
       "      <td>this nigga got corona live taking cough drops ...</td>\n",
       "      <td>3</td>\n",
       "    </tr>\n",
       "    <tr>\n",
       "      <th>372</th>\n",
       "      <td>i know someone kid goes daycare 4yrs oldand ca...</td>\n",
       "      <td>2</td>\n",
       "    </tr>\n",
       "    <tr>\n",
       "      <th>89</th>\n",
       "      <td>are need relief stress anxiety muscle pain hea...</td>\n",
       "      <td>0</td>\n",
       "    </tr>\n",
       "    <tr>\n",
       "      <th>136</th>\n",
       "      <td>yep getting real bad hay fever soon everyone g...</td>\n",
       "      <td>1</td>\n",
       "    </tr>\n",
       "  </tbody>\n",
       "</table>\n",
       "</div>"
      ],
      "text/plain": [
       "                                              X_res_us  Labels\n",
       "175  me eating dairy like idiot starts coughing me ...       1\n",
       "105  good point death rate cattle fever probably mu...       0\n",
       "500  wh doctor extremely happy progress president t...       3\n",
       "73   exactly angelina it like say right coughsneeze...       0\n",
       "32   why could covid19 come better calling card lik...       0\n",
       "430  someone needs take one team cough come already...       3\n",
       "429  this nigga got corona live taking cough drops ...       3\n",
       "372  i know someone kid goes daycare 4yrs oldand ca...       2\n",
       "89   are need relief stress anxiety muscle pain hea...       0\n",
       "136  yep getting real bad hay fever soon everyone g...       1"
      ]
     },
     "execution_count": 21,
     "metadata": {},
     "output_type": "execute_result"
    }
   ],
   "source": [
    "df2 = df2.sample(frac = 1)\n",
    "df2.head(10)\n"
   ]
  },
  {
   "cell_type": "code",
   "execution_count": 25,
   "id": "796978e8-2011-4593-b2d3-896d336f4781",
   "metadata": {},
   "outputs": [
    {
     "data": {
      "text/plain": [
       "<BarContainer object of 4 artists>"
      ]
     },
     "execution_count": 25,
     "metadata": {},
     "output_type": "execute_result"
    },
    {
     "data": {
      "image/png": "[encoded data removed]",
      "text/plain": [
       "<Figure size 432x288 with 1 Axes>"
      ]
     },
     "metadata": {
      "needs_background": "light"
     },
     "output_type": "display_data"
    }
   ],
   "source": [
    "val = df2.groupby(['Labels']).count()\n",
    "val\n",
    "plt.bar(['Non-reporting','Primary','Secondary','Third-party'],val['X_res_us'])"
   ]
  },
  {
   "cell_type": "code",
   "execution_count": 27,
   "id": "b2cff1b2-3cab-4710-b89c-6bc6b28bd233",
   "metadata": {},
   "outputs": [],
   "source": [
    "vect = CountVectorizer(min_df = 2, ngram_range = (1,3)).fit(df['clean_tweet'])\n",
    "X_vect_transformed = vect.transform(df2.X_res_us)"
   ]
  },
  {
   "cell_type": "code",
   "execution_count": null,
   "id": "4d8ac6fe-c58a-4146-87b7-38c98a2c2ae1",
   "metadata": {},
   "outputs": [],
   "source": [
    "print(X_vect_transformed[100].toarray().tolist())"
   ]
  },
  {
   "cell_type": "code",
   "execution_count": 109,
   "id": "6a79e740-3021-4ea7-81e3-51e360a5e109",
   "metadata": {},
   "outputs": [],
   "source": [
    "labels = df2.Labels.to_numpy()"
   ]
  },
  {
   "cell_type": "code",
   "execution_count": 111,
   "id": "2b4763b2-874a-40f9-b2fc-edb67c1cced5",
   "metadata": {},
   "outputs": [],
   "source": [
    "from sklearn.pipeline import make_pipeline"
   ]
  },
  {
   "cell_type": "code",
   "execution_count": 113,
   "id": "e2f47a56-33f0-4c12-a6e9-b2a120cd94b3",
   "metadata": {},
   "outputs": [
    {
     "data": {
      "text/html": [
       "<style>#sk-container-id-3 {color: black;background-color: white;}#sk-container-id-3 pre{padding: 0;}#sk-container-id-3 div.sk-toggleable {background-color: white;}#sk-container-id-3 label.sk-toggleable__label {cursor: pointer;display: block;width: 100%;margin-bottom: 0;padding: 0.3em;box-sizing: border-box;text-align: center;}#sk-container-id-3 label.sk-toggleable__label-arrow:before {content: \"▸\";float: left;margin-right: 0.25em;color: #696969;}#sk-container-id-3 label.sk-toggleable__label-arrow:hover:before {color: black;}#sk-container-id-3 div.sk-estimator:hover label.sk-toggleable__label-arrow:before {color: black;}#sk-container-id-3 div.sk-toggleable__content {max-height: 0;max-width: 0;overflow: hidden;text-align: left;background-color: #f0f8ff;}#sk-container-id-3 div.sk-toggleable__content pre {margin: 0.2em;color: black;border-radius: 0.25em;background-color: #f0f8ff;}#sk-container-id-3 input.sk-toggleable__control:checked~div.sk-toggleable__content {max-height: 200px;max-width: 100%;overflow: auto;}#sk-container-id-3 input.sk-toggleable__control:checked~label.sk-toggleable__label-arrow:before {content: \"▾\";}#sk-container-id-3 div.sk-estimator input.sk-toggleable__control:checked~label.sk-toggleable__label {background-color: #d4ebff;}#sk-container-id-3 div.sk-label input.sk-toggleable__control:checked~label.sk-toggleable__label {background-color: #d4ebff;}#sk-container-id-3 input.sk-hidden--visually {border: 0;clip: rect(1px 1px 1px 1px);clip: rect(1px, 1px, 1px, 1px);height: 1px;margin: -1px;overflow: hidden;padding: 0;position: absolute;width: 1px;}#sk-container-id-3 div.sk-estimator {font-family: monospace;background-color: #f0f8ff;border: 1px dotted black;border-radius: 0.25em;box-sizing: border-box;margin-bottom: 0.5em;}#sk-container-id-3 div.sk-estimator:hover {background-color: #d4ebff;}#sk-container-id-3 div.sk-parallel-item::after {content: \"\";width: 100%;border-bottom: 1px solid gray;flex-grow: 1;}#sk-container-id-3 div.sk-label:hover label.sk-toggleable__label {background-color: #d4ebff;}#sk-container-id-3 div.sk-serial::before {content: \"\";position: absolute;border-left: 1px solid gray;box-sizing: border-box;top: 0;bottom: 0;left: 50%;z-index: 0;}#sk-container-id-3 div.sk-serial {display: flex;flex-direction: column;align-items: center;background-color: white;padding-right: 0.2em;padding-left: 0.2em;position: relative;}#sk-container-id-3 div.sk-item {position: relative;z-index: 1;}#sk-container-id-3 div.sk-parallel {display: flex;align-items: stretch;justify-content: center;background-color: white;position: relative;}#sk-container-id-3 div.sk-item::before, #sk-container-id-3 div.sk-parallel-item::before {content: \"\";position: absolute;border-left: 1px solid gray;box-sizing: border-box;top: 0;bottom: 0;left: 50%;z-index: -1;}#sk-container-id-3 div.sk-parallel-item {display: flex;flex-direction: column;z-index: 1;position: relative;background-color: white;}#sk-container-id-3 div.sk-parallel-item:first-child::after {align-self: flex-end;width: 50%;}#sk-container-id-3 div.sk-parallel-item:last-child::after {align-self: flex-start;width: 50%;}#sk-container-id-3 div.sk-parallel-item:only-child::after {width: 0;}#sk-container-id-3 div.sk-dashed-wrapped {border: 1px dashed gray;margin: 0 0.4em 0.5em 0.4em;box-sizing: border-box;padding-bottom: 0.4em;background-color: white;}#sk-container-id-3 div.sk-label label {font-family: monospace;font-weight: bold;display: inline-block;line-height: 1.2em;}#sk-container-id-3 div.sk-label-container {text-align: center;}#sk-container-id-3 div.sk-container {/* jupyter's `normalize.less` sets `[hidden] { display: none; }` but bootstrap.min.css set `[hidden] { display: none !important; }` so we also need the `!important` here to be able to override the default hidden behavior on the sphinx rendered scikit-learn.org. See: https://github.com/scikit-learn/scikit-learn/issues/21755 */display: inline-block !important;position: relative;}#sk-container-id-3 div.sk-text-repr-fallback {display: none;}</style><div id=\"sk-container-id-3\" class=\"sk-top-container\"><div class=\"sk-text-repr-fallback\"><pre>Pipeline(steps=[(&#x27;countvectorizer&#x27;,\n",
       "                 CountVectorizer(min_df=2, ngram_range=(1, 3))),\n",
       "                (&#x27;xgbclassifier&#x27;,\n",
       "                 XGBClassifier(base_score=0.5, booster=&#x27;gbtree&#x27;, callbacks=None,\n",
       "                               colsample_bylevel=1, colsample_bynode=1,\n",
       "                               colsample_bytree=1, early_stopping_rounds=None,\n",
       "                               enable_categorical=False, eval_metric=None,\n",
       "                               gamma=0, gpu_id=-1, grow_policy=&#x27;depthwise&#x27;,\n",
       "                               importance_type=None, interaction_constraints=&#x27;&#x27;,\n",
       "                               learning_rate=0.300000012, max_bin=256,\n",
       "                               max_cat_to_onehot=4, max_delta_step=0,\n",
       "                               max_depth=6, max_leaves=0, min_child_weight=1,\n",
       "                               missing=nan, monotone_constraints=&#x27;()&#x27;,\n",
       "                               n_estimators=100, n_jobs=0, num_parallel_tree=1,\n",
       "                               objective=&#x27;multi:softprob&#x27;, predictor=&#x27;auto&#x27;,\n",
       "                               random_state=0, reg_alpha=0, ...))])</pre><b>In a Jupyter environment, please rerun this cell to show the HTML representation or trust the notebook. <br />On GitHub, the HTML representation is unable to render, please try loading this page with nbviewer.org.</b></div><div class=\"sk-container\" hidden><div class=\"sk-item sk-dashed-wrapped\"><div class=\"sk-label-container\"><div class=\"sk-label sk-toggleable\"><input class=\"sk-toggleable__control sk-hidden--visually\" id=\"sk-estimator-id-3\" type=\"checkbox\" ><label for=\"sk-estimator-id-3\" class=\"sk-toggleable__label sk-toggleable__label-arrow\">Pipeline</label><div class=\"sk-toggleable__content\"><pre>Pipeline(steps=[(&#x27;countvectorizer&#x27;,\n",
       "                 CountVectorizer(min_df=2, ngram_range=(1, 3))),\n",
       "                (&#x27;xgbclassifier&#x27;,\n",
       "                 XGBClassifier(base_score=0.5, booster=&#x27;gbtree&#x27;, callbacks=None,\n",
       "                               colsample_bylevel=1, colsample_bynode=1,\n",
       "                               colsample_bytree=1, early_stopping_rounds=None,\n",
       "                               enable_categorical=False, eval_metric=None,\n",
       "                               gamma=0, gpu_id=-1, grow_policy=&#x27;depthwise&#x27;,\n",
       "                               importance_type=None, interaction_constraints=&#x27;&#x27;,\n",
       "                               learning_rate=0.300000012, max_bin=256,\n",
       "                               max_cat_to_onehot=4, max_delta_step=0,\n",
       "                               max_depth=6, max_leaves=0, min_child_weight=1,\n",
       "                               missing=nan, monotone_constraints=&#x27;()&#x27;,\n",
       "                               n_estimators=100, n_jobs=0, num_parallel_tree=1,\n",
       "                               objective=&#x27;multi:softprob&#x27;, predictor=&#x27;auto&#x27;,\n",
       "                               random_state=0, reg_alpha=0, ...))])</pre></div></div></div><div class=\"sk-serial\"><div class=\"sk-item\"><div class=\"sk-estimator sk-toggleable\"><input class=\"sk-toggleable__control sk-hidden--visually\" id=\"sk-estimator-id-4\" type=\"checkbox\" ><label for=\"sk-estimator-id-4\" class=\"sk-toggleable__label sk-toggleable__label-arrow\">CountVectorizer</label><div class=\"sk-toggleable__content\"><pre>CountVectorizer(min_df=2, ngram_range=(1, 3))</pre></div></div></div><div class=\"sk-item\"><div class=\"sk-estimator sk-toggleable\"><input class=\"sk-toggleable__control sk-hidden--visually\" id=\"sk-estimator-id-5\" type=\"checkbox\" ><label for=\"sk-estimator-id-5\" class=\"sk-toggleable__label sk-toggleable__label-arrow\">XGBClassifier</label><div class=\"sk-toggleable__content\"><pre>XGBClassifier(base_score=0.5, booster=&#x27;gbtree&#x27;, callbacks=None,\n",
       "              colsample_bylevel=1, colsample_bynode=1, colsample_bytree=1,\n",
       "              early_stopping_rounds=None, enable_categorical=False,\n",
       "              eval_metric=None, gamma=0, gpu_id=-1, grow_policy=&#x27;depthwise&#x27;,\n",
       "              importance_type=None, interaction_constraints=&#x27;&#x27;,\n",
       "              learning_rate=0.300000012, max_bin=256, max_cat_to_onehot=4,\n",
       "              max_delta_step=0, max_depth=6, max_leaves=0, min_child_weight=1,\n",
       "              missing=nan, monotone_constraints=&#x27;()&#x27;, n_estimators=100,\n",
       "              n_jobs=0, num_parallel_tree=1, objective=&#x27;multi:softprob&#x27;,\n",
       "              predictor=&#x27;auto&#x27;, random_state=0, reg_alpha=0, ...)</pre></div></div></div></div></div></div></div>"
      ],
      "text/plain": [
       "Pipeline(steps=[('countvectorizer',\n",
       "                 CountVectorizer(min_df=2, ngram_range=(1, 3))),\n",
       "                ('xgbclassifier',\n",
       "                 XGBClassifier(base_score=0.5, booster='gbtree', callbacks=None,\n",
       "                               colsample_bylevel=1, colsample_bynode=1,\n",
       "                               colsample_bytree=1, early_stopping_rounds=None,\n",
       "                               enable_categorical=False, eval_metric=None,\n",
       "                               gamma=0, gpu_id=-1, grow_policy='depthwise',\n",
       "                               importance_type=None, interaction_constraints='',\n",
       "                               learning_rate=0.300000012, max_bin=256,\n",
       "                               max_cat_to_onehot=4, max_delta_step=0,\n",
       "                               max_depth=6, max_leaves=0, min_child_weight=1,\n",
       "                               missing=nan, monotone_constraints='()',\n",
       "                               n_estimators=100, n_jobs=0, num_parallel_tree=1,\n",
       "                               objective='multi:softprob', predictor='auto',\n",
       "                               random_state=0, reg_alpha=0, ...))])"
      ]
     },
     "execution_count": 113,
     "metadata": {},
     "output_type": "execute_result"
    }
   ],
   "source": [
    "xgb= XGBClassifier()\n",
    "xgb_cv = make_pipeline(vect,xgb)\n",
    "xgb_cv.fit(df2.X_res_us,labels)"
   ]
  },
  {
   "cell_type": "code",
   "execution_count": 104,
   "id": "f3892cd7-3173-4d8a-b3b7-1928c8eb895f",
   "metadata": {},
   "outputs": [
    {
     "data": {
      "text/html": [
       "<div>\n",
       "<style scoped>\n",
       "    .dataframe tbody tr th:only-of-type {\n",
       "        vertical-align: middle;\n",
       "    }\n",
       "\n",
       "    .dataframe tbody tr th {\n",
       "        vertical-align: top;\n",
       "    }\n",
       "\n",
       "    .dataframe thead th {\n",
       "        text-align: right;\n",
       "    }\n",
       "</style>\n",
       "<table border=\"1\" class=\"dataframe\">\n",
       "  <thead>\n",
       "    <tr style=\"text-align: right;\">\n",
       "      <th></th>\n",
       "      <th>id</th>\n",
       "      <th>tweet</th>\n",
       "      <th>labels</th>\n",
       "      <th>clean_tweet</th>\n",
       "      <th>encoded_label</th>\n",
       "    </tr>\n",
       "  </thead>\n",
       "  <tbody>\n",
       "    <tr>\n",
       "      <th>0</th>\n",
       "      <td>1322367936405921794</td>\n",
       "      <td>uh oh the coughs have started covid is taking ...</td>\n",
       "      <td>non-reporting</td>\n",
       "      <td>uh oh coughs started covid taking</td>\n",
       "      <td>0</td>\n",
       "    </tr>\n",
       "    <tr>\n",
       "      <th>1</th>\n",
       "      <td>1262153405553946624</td>\n",
       "      <td>Loss of smell, confusion, strokes: Does Covid-...</td>\n",
       "      <td>non-reporting</td>\n",
       "      <td>loss smell confusion strokes does covid19 targ...</td>\n",
       "      <td>0</td>\n",
       "    </tr>\n",
       "    <tr>\n",
       "      <th>2</th>\n",
       "      <td>1324014644931878912</td>\n",
       "      <td>\"AI is being used to distinguish between asymp...</td>\n",
       "      <td>non-reporting</td>\n",
       "      <td>ai used distinguish asymptomatic covid19 cases...</td>\n",
       "      <td>0</td>\n",
       "    </tr>\n",
       "    <tr>\n",
       "      <th>3</th>\n",
       "      <td>1313660639097823232</td>\n",
       "      <td>i was v ill for the last couple of days (high ...</td>\n",
       "      <td>non-reporting</td>\n",
       "      <td>v ill last couple days high fever corona thoug...</td>\n",
       "      <td>0</td>\n",
       "    </tr>\n",
       "    <tr>\n",
       "      <th>4</th>\n",
       "      <td>1239223445306695680</td>\n",
       "      <td>Played warzone yesterday with a dude who caugh...</td>\n",
       "      <td>third-party</td>\n",
       "      <td>played warzone yesterday dude caught corona sw...</td>\n",
       "      <td>3</td>\n",
       "    </tr>\n",
       "  </tbody>\n",
       "</table>\n",
       "</div>"
      ],
      "text/plain": [
       "                    id                                              tweet  \\\n",
       "0  1322367936405921794  uh oh the coughs have started covid is taking ...   \n",
       "1  1262153405553946624  Loss of smell, confusion, strokes: Does Covid-...   \n",
       "2  1324014644931878912  \"AI is being used to distinguish between asymp...   \n",
       "3  1313660639097823232  i was v ill for the last couple of days (high ...   \n",
       "4  1239223445306695680  Played warzone yesterday with a dude who caugh...   \n",
       "\n",
       "          labels                                        clean_tweet  \\\n",
       "0  non-reporting                  uh oh coughs started covid taking   \n",
       "1  non-reporting  loss smell confusion strokes does covid19 targ...   \n",
       "2  non-reporting  ai used distinguish asymptomatic covid19 cases...   \n",
       "3  non-reporting  v ill last couple days high fever corona thoug...   \n",
       "4    third-party  played warzone yesterday dude caught corona sw...   \n",
       "\n",
       "   encoded_label  \n",
       "0              0  \n",
       "1              0  \n",
       "2              0  \n",
       "3              0  \n",
       "4              3  "
      ]
     },
     "execution_count": 104,
     "metadata": {},
     "output_type": "execute_result"
    }
   ],
   "source": [
    "df.head()"
   ]
  },
  {
   "cell_type": "code",
   "execution_count": 114,
   "id": "c3c9cbff-f7ad-4711-8436-0b0c3d038006",
   "metadata": {},
   "outputs": [],
   "source": [
    "test_tweet = []\n",
    "test_labels = []\n",
    "for i in df['clean_tweet']:\n",
    "    if i not in X_res_us:\n",
    "        test_tweet.append(i)\n",
    "        test_labels.append(df[df['clean_tweet'] == i]['encoded_label'])"
   ]
  },
  {
   "cell_type": "code",
   "execution_count": 128,
   "id": "558a504d-4f5c-43ab-b9b8-e652a7bddd62",
   "metadata": {},
   "outputs": [],
   "source": [
    "df3 = pd.read_csv(\"C:\\\\Users\\\\Kaustav Das\\\\Desktop\\\\Covid analysic\\\\covid-19-vaccination-stance-detection\\\\2022_test\\\\2022_test\\\\symp_test.csv\")"
   ]
  },
  {
   "cell_type": "code",
   "execution_count": 116,
   "id": "d7bcd006-6e93-4b6b-8d79-0970d9aee417",
   "metadata": {},
   "outputs": [
    {
     "data": {
      "text/html": [
       "<div>\n",
       "<style scoped>\n",
       "    .dataframe tbody tr th:only-of-type {\n",
       "        vertical-align: middle;\n",
       "    }\n",
       "\n",
       "    .dataframe tbody tr th {\n",
       "        vertical-align: top;\n",
       "    }\n",
       "\n",
       "    .dataframe thead th {\n",
       "        text-align: right;\n",
       "    }\n",
       "</style>\n",
       "<table border=\"1\" class=\"dataframe\">\n",
       "  <thead>\n",
       "    <tr style=\"text-align: right;\">\n",
       "      <th></th>\n",
       "      <th>id</th>\n",
       "      <th>tweet</th>\n",
       "    </tr>\n",
       "  </thead>\n",
       "  <tbody>\n",
       "    <tr>\n",
       "      <th>0</th>\n",
       "      <td>1242353332817137664t</td>\n",
       "      <td>If you think you have been exposed to COVID-19...</td>\n",
       "    </tr>\n",
       "    <tr>\n",
       "      <th>1</th>\n",
       "      <td>1244712715827982339t</td>\n",
       "      <td>@timbovisser @BBCJohnBeattie Yes, myself, wife...</td>\n",
       "    </tr>\n",
       "    <tr>\n",
       "      <th>2</th>\n",
       "      <td>1314693013810089984t</td>\n",
       "      <td>Lots of people I know having positive covid te...</td>\n",
       "    </tr>\n",
       "    <tr>\n",
       "      <th>3</th>\n",
       "      <td>1307860995692527616t</td>\n",
       "      <td>@lizzyp144 @TomAThakkar Okay but doesn’t COVID...</td>\n",
       "    </tr>\n",
       "    <tr>\n",
       "      <th>4</th>\n",
       "      <td>1277375421164613632t</td>\n",
       "      <td>We should have people w covid cough on white b...</td>\n",
       "    </tr>\n",
       "  </tbody>\n",
       "</table>\n",
       "</div>"
      ],
      "text/plain": [
       "                     id                                              tweet\n",
       "0  1242353332817137664t  If you think you have been exposed to COVID-19...\n",
       "1  1244712715827982339t  @timbovisser @BBCJohnBeattie Yes, myself, wife...\n",
       "2  1314693013810089984t  Lots of people I know having positive covid te...\n",
       "3  1307860995692527616t  @lizzyp144 @TomAThakkar Okay but doesn’t COVID...\n",
       "4  1277375421164613632t  We should have people w covid cough on white b..."
      ]
     },
     "execution_count": 116,
     "metadata": {},
     "output_type": "execute_result"
    }
   ],
   "source": [
    "df3.head(5)"
   ]
  },
  {
   "cell_type": "code",
   "execution_count": 119,
   "id": "8866dcd1-e75f-4894-b4d3-42b16c930551",
   "metadata": {},
   "outputs": [],
   "source": [
    "clean_test_tweet = clean_tweet_func(df3.tweet)\n",
    "pred = xgb_cv.predict(clean_test_tweet)"
   ]
  },
  {
   "cell_type": "code",
   "execution_count": 120,
   "id": "daf9dc87-1065-42ce-8ff9-1a1619bc6109",
   "metadata": {},
   "outputs": [
    {
     "data": {
      "text/plain": [
       "array([0, 1, 0, 0, 0, 0, 3, 3, 0, 2, 0, 3, 3, 0, 0, 1, 0, 1, 2, 2, 0, 3,\n",
       "       0, 1, 2, 2, 0, 2, 1, 0, 3, 1, 2, 1, 0, 0, 3, 2, 1, 3, 3, 0, 3, 1,\n",
       "       1, 0, 0, 0, 0, 0, 2, 1, 1, 3, 1, 3, 0, 0, 0, 0, 0, 3, 0, 2, 2, 0,\n",
       "       0, 0, 3, 3, 3, 2, 0, 2, 0, 0, 0, 2, 2, 3, 0, 1, 0, 0, 3, 0, 0, 0,\n",
       "       0, 0, 0, 1, 0, 3, 0, 0, 1, 2, 0, 0, 0, 3, 1, 3, 3, 2, 1, 2, 2, 2,\n",
       "       0, 3, 1, 3, 1, 1, 0, 3, 0, 3, 1, 1, 1, 3, 2, 2, 2, 3, 0, 1, 2, 3,\n",
       "       1, 1, 1, 2, 1, 1, 2, 1, 3, 0, 0, 2, 0, 0, 0, 2, 3, 3, 0, 2, 1, 0,\n",
       "       0, 1, 0, 1, 1, 1, 2, 2, 1, 1, 3, 3, 0, 0, 2, 2, 0, 1, 1, 2, 0, 0,\n",
       "       0, 3, 0, 0, 3, 3, 0, 2, 0, 0, 1, 0, 2, 2, 3, 1, 3, 3, 0, 1, 0, 1,\n",
       "       1, 3, 3, 0, 3, 3, 1, 0, 0, 1, 0, 1, 2, 0, 3, 1, 2, 3, 0, 1, 0, 3,\n",
       "       0, 2, 1, 2, 3, 0, 2, 2, 3, 0, 1, 1, 0, 0, 0, 0, 0, 0, 2, 1, 0, 0,\n",
       "       0, 3, 3, 2, 0, 1, 1, 0, 0, 3, 3, 0, 0, 0, 0, 0, 1, 0, 0, 3, 1, 2,\n",
       "       2, 2, 1, 0, 0, 1, 2, 0, 1, 0, 0, 3, 2, 0, 0, 0, 1, 0, 2, 0, 0, 3,\n",
       "       1, 1, 3, 2, 0, 0, 3, 0, 3, 1, 1, 0, 0, 1, 2, 2, 0, 1, 1, 3, 2, 0,\n",
       "       2, 0, 0, 0, 0, 0, 1, 0, 0, 1, 2, 0, 0, 0, 0, 0, 1, 2, 3, 3, 2, 0,\n",
       "       0, 0, 2, 3, 2, 0, 3, 1, 1, 0, 2, 1, 3, 1, 1, 1, 1, 2, 2, 0, 2, 0,\n",
       "       0, 0, 0, 1, 1, 0, 0, 0, 0, 1, 2, 0, 3, 3, 2, 1, 1, 1, 1, 2, 0, 1,\n",
       "       0, 3, 0, 0, 2, 2, 0, 1, 0, 1, 1, 1, 3, 1, 1, 0, 3, 0, 2, 1, 3, 0,\n",
       "       0, 1, 1, 3], dtype=int64)"
      ]
     },
     "execution_count": 120,
     "metadata": {},
     "output_type": "execute_result"
    }
   ],
   "source": [
    "pred\n",
    "#0->non-reporting\n",
    "#1->primary\n",
    "#2->secondary\n",
    "#3->third-party"
   ]
  },
  {
   "cell_type": "code",
   "execution_count": 123,
   "id": "aab8fc4a-3fe5-4d6c-acb6-99d97046d6f7",
   "metadata": {},
   "outputs": [],
   "source": [
    "predictions = []\n",
    "for i in pred:\n",
    "    if i == 0:\n",
    "        predictions.append('non-reporting')\n",
    "    elif i == 1:\n",
    "        predictions.append('primary')\n",
    "    elif i == 2:\n",
    "        predictions.append('secondary')\n",
    "    else:\n",
    "        predictions.append('third-party')"
   ]
  },
  {
   "cell_type": "code",
   "execution_count": 131,
   "id": "a2efe7f6-bad2-414f-bc77-06fc3e39f611",
   "metadata": {},
   "outputs": [],
   "source": [
    "df3.drop(['tweet'],inplace=True,axis =1)\n",
    "df3.insert(1,'label',predictions,True)\n",
    "df3.to_csv('symp_test_XGBCV.csv')"
   ]
  },
  {
   "cell_type": "code",
   "execution_count": 132,
   "id": "ea469d77-49df-491b-963a-2ef957be47ea",
   "metadata": {},
   "outputs": [
    {
     "data": {
      "text/html": [
       "<div>\n",
       "<style scoped>\n",
       "    .dataframe tbody tr th:only-of-type {\n",
       "        vertical-align: middle;\n",
       "    }\n",
       "\n",
       "    .dataframe tbody tr th {\n",
       "        vertical-align: top;\n",
       "    }\n",
       "\n",
       "    .dataframe thead th {\n",
       "        text-align: right;\n",
       "    }\n",
       "</style>\n",
       "<table border=\"1\" class=\"dataframe\">\n",
       "  <thead>\n",
       "    <tr style=\"text-align: right;\">\n",
       "      <th></th>\n",
       "      <th>id</th>\n",
       "      <th>label</th>\n",
       "    </tr>\n",
       "  </thead>\n",
       "  <tbody>\n",
       "    <tr>\n",
       "      <th>0</th>\n",
       "      <td>1242353332817137664t</td>\n",
       "      <td>non-reporting</td>\n",
       "    </tr>\n",
       "    <tr>\n",
       "      <th>1</th>\n",
       "      <td>1244712715827982339t</td>\n",
       "      <td>primary</td>\n",
       "    </tr>\n",
       "    <tr>\n",
       "      <th>2</th>\n",
       "      <td>1314693013810089984t</td>\n",
       "      <td>non-reporting</td>\n",
       "    </tr>\n",
       "    <tr>\n",
       "      <th>3</th>\n",
       "      <td>1307860995692527616t</td>\n",
       "      <td>non-reporting</td>\n",
       "    </tr>\n",
       "    <tr>\n",
       "      <th>4</th>\n",
       "      <td>1277375421164613632t</td>\n",
       "      <td>non-reporting</td>\n",
       "    </tr>\n",
       "  </tbody>\n",
       "</table>\n",
       "</div>"
      ],
      "text/plain": [
       "                     id          label\n",
       "0  1242353332817137664t  non-reporting\n",
       "1  1244712715827982339t        primary\n",
       "2  1314693013810089984t  non-reporting\n",
       "3  1307860995692527616t  non-reporting\n",
       "4  1277375421164613632t  non-reporting"
      ]
     },
     "execution_count": 132,
     "metadata": {},
     "output_type": "execute_result"
    }
   ],
   "source": [
    "df3.head()"
   ]
  },
  {
   "cell_type": "code",
   "execution_count": null,
   "id": "e9e24b99-2ad8-4d2d-b352-e3ed8858bc8a",
   "metadata": {},
   "outputs": [],
   "source": []
  }
 ],
 "metadata": {
  "kernelspec": {
   "display_name": "Python 3 (ipykernel)",
   "language": "python",
   "name": "python3"
  },
  "language_info": {
   "codemirror_mode": {
    "name": "ipython",
    "version": 3
   },
   "file_extension": ".py",
   "mimetype": "text/x-python",
   "name": "python",
   "nbconvert_exporter": "python",
   "pygments_lexer": "ipython3",
   "version": "3.8.13"
  }
 },
 "nbformat": 4,
 "nbformat_minor": 5
}
